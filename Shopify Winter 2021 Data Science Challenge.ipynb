{
 "cells": [
  {
   "cell_type": "markdown",
   "metadata": {},
   "source": [
    "<h1><center>Winter 2021 Data Science Challenge</center></h1>"
   ]
  },
  {
   "cell_type": "markdown",
   "metadata": {},
   "source": [
    "## Question 1 {-}\n",
    "**Given some sample data, write a program to answer the following:**\n",
    "\n",
    "**On Shopify, we have exactly 100 sneaker shops, and each of these shops sells only one model of shoe. We want to do some analysis of the average order value (AOV). When we look at orders data over a 30 day window, we naively calculate an AOV of $3145.13. Given that we know these shops are selling sneakers, a relatively affordable item, something seems wrong with our analysis.**"
   ]
  },
  {
   "cell_type": "markdown",
   "metadata": {},
   "source": [
    "To set up, I will import the libraries I will use for this question and load the given data:"
   ]
  },
  {
   "cell_type": "code",
   "execution_count": 1,
   "metadata": {},
   "outputs": [],
   "source": [
    "# I will be using the following libraries in this question:\n",
    "import pandas as pd\n",
    "import matplotlib.pyplot as plt\n",
    "import math as mt\n",
    "import statistics as st"
   ]
  },
  {
   "cell_type": "code",
   "execution_count": 2,
   "metadata": {},
   "outputs": [
    {
     "data": {
      "text/html": [
       "<div>\n",
       "<style scoped>\n",
       "    .dataframe tbody tr th:only-of-type {\n",
       "        vertical-align: middle;\n",
       "    }\n",
       "\n",
       "    .dataframe tbody tr th {\n",
       "        vertical-align: top;\n",
       "    }\n",
       "\n",
       "    .dataframe thead th {\n",
       "        text-align: right;\n",
       "    }\n",
       "</style>\n",
       "<table border=\"1\" class=\"dataframe\">\n",
       "  <thead>\n",
       "    <tr style=\"text-align: right;\">\n",
       "      <th></th>\n",
       "      <th>order_id</th>\n",
       "      <th>shop_id</th>\n",
       "      <th>user_id</th>\n",
       "      <th>order_amount</th>\n",
       "      <th>total_items</th>\n",
       "      <th>payment_method</th>\n",
       "      <th>created_at</th>\n",
       "    </tr>\n",
       "  </thead>\n",
       "  <tbody>\n",
       "    <tr>\n",
       "      <th>0</th>\n",
       "      <td>1</td>\n",
       "      <td>53</td>\n",
       "      <td>746</td>\n",
       "      <td>224</td>\n",
       "      <td>2</td>\n",
       "      <td>cash</td>\n",
       "      <td>2017-03-13 12:36:56</td>\n",
       "    </tr>\n",
       "    <tr>\n",
       "      <th>1</th>\n",
       "      <td>2</td>\n",
       "      <td>92</td>\n",
       "      <td>925</td>\n",
       "      <td>90</td>\n",
       "      <td>1</td>\n",
       "      <td>cash</td>\n",
       "      <td>2017-03-03 17:38:52</td>\n",
       "    </tr>\n",
       "    <tr>\n",
       "      <th>2</th>\n",
       "      <td>3</td>\n",
       "      <td>44</td>\n",
       "      <td>861</td>\n",
       "      <td>144</td>\n",
       "      <td>1</td>\n",
       "      <td>cash</td>\n",
       "      <td>2017-03-14 4:23:56</td>\n",
       "    </tr>\n",
       "    <tr>\n",
       "      <th>3</th>\n",
       "      <td>4</td>\n",
       "      <td>18</td>\n",
       "      <td>935</td>\n",
       "      <td>156</td>\n",
       "      <td>1</td>\n",
       "      <td>credit_card</td>\n",
       "      <td>2017-03-26 12:43:37</td>\n",
       "    </tr>\n",
       "    <tr>\n",
       "      <th>4</th>\n",
       "      <td>5</td>\n",
       "      <td>18</td>\n",
       "      <td>883</td>\n",
       "      <td>156</td>\n",
       "      <td>1</td>\n",
       "      <td>credit_card</td>\n",
       "      <td>2017-03-01 4:35:11</td>\n",
       "    </tr>\n",
       "  </tbody>\n",
       "</table>\n",
       "</div>"
      ],
      "text/plain": [
       "   order_id  shop_id  user_id  order_amount  total_items payment_method  \\\n",
       "0         1       53      746           224            2           cash   \n",
       "1         2       92      925            90            1           cash   \n",
       "2         3       44      861           144            1           cash   \n",
       "3         4       18      935           156            1    credit_card   \n",
       "4         5       18      883           156            1    credit_card   \n",
       "\n",
       "            created_at  \n",
       "0  2017-03-13 12:36:56  \n",
       "1  2017-03-03 17:38:52  \n",
       "2   2017-03-14 4:23:56  \n",
       "3  2017-03-26 12:43:37  \n",
       "4   2017-03-01 4:35:11  "
      ]
     },
     "execution_count": 2,
     "metadata": {},
     "output_type": "execute_result"
    }
   ],
   "source": [
    "# load in the data as a dataframe\n",
    "sneakers_df = pd.read_csv(\"DataScienceInternChallengeDataSet.csv\")\n",
    "sneakers_df.head()"
   ]
  },
  {
   "cell_type": "markdown",
   "metadata": {},
   "source": [
    "**a) Think about what could be going wrong with our calculation. Think about a better way to evaluate this data.**"
   ]
  },
  {
   "cell_type": "markdown",
   "metadata": {},
   "source": [
    "First, I will consider how the naive calculation was made.\n",
    "\n",
    "By definition, Average Order Value (AOV) is defined a: $$\\text{AOV}=\\frac{\\text{Revenue}}{\\text{Number of Orders}}$$"
   ]
  },
  {
   "cell_type": "code",
   "execution_count": 16,
   "metadata": {},
   "outputs": [
    {
     "name": "stdout",
     "output_type": "stream",
     "text": [
      "3145.128\n"
     ]
    }
   ],
   "source": [
    "# Use the AOV formula on the dataset\n",
    "print(sum(sneakers_df['order_amount'])/len(sneakers_df.index))"
   ]
  },
  {
   "cell_type": "markdown",
   "metadata": {},
   "source": [
    "So, I've confirmed that the naive result is equivalent to the result of a direct application of the AOV formula; there is no error in calculation. \n",
    "\n",
    "Then, this naive result is troubling for other reasons. Let us observe the box plot:"
   ]
  },
  {
   "cell_type": "code",
   "execution_count": 4,
   "metadata": {},
   "outputs": [
    {
     "data": {
      "text/plain": [
       "{'whiskers': [<matplotlib.lines.Line2D at 0x2a6765c9790>,\n",
       "  <matplotlib.lines.Line2D at 0x2a6765c9af0>],\n",
       " 'caps': [<matplotlib.lines.Line2D at 0x2a6765c9e50>,\n",
       "  <matplotlib.lines.Line2D at 0x2a6765e11f0>],\n",
       " 'boxes': [<matplotlib.lines.Line2D at 0x2a6765c9430>],\n",
       " 'medians': [<matplotlib.lines.Line2D at 0x2a6765e1550>],\n",
       " 'fliers': [<matplotlib.lines.Line2D at 0x2a6765e1850>],\n",
       " 'means': []}"
      ]
     },
     "execution_count": 4,
     "metadata": {},
     "output_type": "execute_result"
    },
    {
     "data": {
      "image/png": "[encoded data removed]",
      "text/plain": [
       "<Figure size 432x288 with 1 Axes>"
      ]
     },
     "metadata": {
      "needs_background": "light"
     },
     "output_type": "display_data"
    }
   ],
   "source": [
    "# Basic boxplot\n",
    "plt.boxplot(sneakers_df['order_amount'])"
   ]
  },
  {
   "cell_type": "markdown",
   "metadata": {},
   "source": [
    "This boxplot reveals that there are many outliers of high values in the data. As the AOV includes all values in the data with equal weight, these outliers hold notable influence over the final result. The AOV is a type of mean calculation, and means are notably sensitive to extreme datapoints; for a dataset such as this one, I would prefer a different metric to measure average.\n",
    "\n",
    "In part b), I will discuss alternative more preferable metrics given this boxplot; but for the remainder of part a), I will discuss improving the AOV value to better represent the dataset. \n",
    "\n",
    "To better represent the data using the AOV, we need to either remove or lower the influence of the outliers on the dataset. First, we must identify the outlier values; typically, we consider values outside three standard deviations of the mean to be an outlier."
   ]
  },
  {
   "cell_type": "code",
   "execution_count": 5,
   "metadata": {},
   "outputs": [
    {
     "name": "stdout",
     "output_type": "stream",
     "text": [
      "[-120702.49004636414, 126992.74604636413]\n"
     ]
    }
   ],
   "source": [
    "# Find the bounds of outliers\n",
    "mean = st.mean(sneakers_df['order_amount'])\n",
    "outlier_margin = 3*mt.sqrt(st.variance(sneakers_df['order_amount']))\n",
    "outlier_lower = mean - outlier_margin\n",
    "outlier_upper = mean + outlier_margin\n",
    "print([outlier_lower, outlier_upper])"
   ]
  },
  {
   "cell_type": "markdown",
   "metadata": {},
   "source": [
    "Since the lower bound is a negative value, which is outside the possible value for an order value, we can ignore this bound when filtering for outliers. So, a sample of the outliers are:"
   ]
  },
  {
   "cell_type": "code",
   "execution_count": 6,
   "metadata": {},
   "outputs": [
    {
     "data": {
      "text/html": [
       "<div>\n",
       "<style scoped>\n",
       "    .dataframe tbody tr th:only-of-type {\n",
       "        vertical-align: middle;\n",
       "    }\n",
       "\n",
       "    .dataframe tbody tr th {\n",
       "        vertical-align: top;\n",
       "    }\n",
       "\n",
       "    .dataframe thead th {\n",
       "        text-align: right;\n",
       "    }\n",
       "</style>\n",
       "<table border=\"1\" class=\"dataframe\">\n",
       "  <thead>\n",
       "    <tr style=\"text-align: right;\">\n",
       "      <th></th>\n",
       "      <th>order_id</th>\n",
       "      <th>shop_id</th>\n",
       "      <th>user_id</th>\n",
       "      <th>order_amount</th>\n",
       "      <th>total_items</th>\n",
       "      <th>payment_method</th>\n",
       "      <th>created_at</th>\n",
       "    </tr>\n",
       "  </thead>\n",
       "  <tbody>\n",
       "    <tr>\n",
       "      <th>15</th>\n",
       "      <td>16</td>\n",
       "      <td>42</td>\n",
       "      <td>607</td>\n",
       "      <td>704000</td>\n",
       "      <td>2000</td>\n",
       "      <td>credit_card</td>\n",
       "      <td>2017-03-07 4:00:00</td>\n",
       "    </tr>\n",
       "    <tr>\n",
       "      <th>60</th>\n",
       "      <td>61</td>\n",
       "      <td>42</td>\n",
       "      <td>607</td>\n",
       "      <td>704000</td>\n",
       "      <td>2000</td>\n",
       "      <td>credit_card</td>\n",
       "      <td>2017-03-04 4:00:00</td>\n",
       "    </tr>\n",
       "    <tr>\n",
       "      <th>520</th>\n",
       "      <td>521</td>\n",
       "      <td>42</td>\n",
       "      <td>607</td>\n",
       "      <td>704000</td>\n",
       "      <td>2000</td>\n",
       "      <td>credit_card</td>\n",
       "      <td>2017-03-02 4:00:00</td>\n",
       "    </tr>\n",
       "    <tr>\n",
       "      <th>691</th>\n",
       "      <td>692</td>\n",
       "      <td>78</td>\n",
       "      <td>878</td>\n",
       "      <td>154350</td>\n",
       "      <td>6</td>\n",
       "      <td>debit</td>\n",
       "      <td>2017-03-27 22:51:43</td>\n",
       "    </tr>\n",
       "    <tr>\n",
       "      <th>1104</th>\n",
       "      <td>1105</td>\n",
       "      <td>42</td>\n",
       "      <td>607</td>\n",
       "      <td>704000</td>\n",
       "      <td>2000</td>\n",
       "      <td>credit_card</td>\n",
       "      <td>2017-03-24 4:00:00</td>\n",
       "    </tr>\n",
       "  </tbody>\n",
       "</table>\n",
       "</div>"
      ],
      "text/plain": [
       "      order_id  shop_id  user_id  order_amount  total_items payment_method  \\\n",
       "15          16       42      607        704000         2000    credit_card   \n",
       "60          61       42      607        704000         2000    credit_card   \n",
       "520        521       42      607        704000         2000    credit_card   \n",
       "691        692       78      878        154350            6          debit   \n",
       "1104      1105       42      607        704000         2000    credit_card   \n",
       "\n",
       "               created_at  \n",
       "15     2017-03-07 4:00:00  \n",
       "60     2017-03-04 4:00:00  \n",
       "520    2017-03-02 4:00:00  \n",
       "691   2017-03-27 22:51:43  \n",
       "1104   2017-03-24 4:00:00  "
      ]
     },
     "execution_count": 6,
     "metadata": {},
     "output_type": "execute_result"
    }
   ],
   "source": [
    "# Check that a sample of these values show they are significantly higher than previous data samples\n",
    "sneakers_df[sneakers_df['order_amount'] > outlier_upper].head()"
   ]
  },
  {
   "cell_type": "markdown",
   "metadata": {},
   "source": [
    "Just briefly skimming over these values and comparing them to what we had seen earlier, not only is the amount much larger, the total items for many of these rows being 2000 is a notable outlier from the rest of the data.\n",
    "\n",
    "Now, we could choose to eliminate these outliers or replace them. To avoid losting the data completely, I would consider replacing the values of these outliers with the outlier upper bound. So, in case we choose to model this data in the future, we can keep the shape of the distrbution while reducing the influence of outliers. I will add a new column that we can use for the AOV calculation to this dataset:"
   ]
  },
  {
   "cell_type": "code",
   "execution_count": 7,
   "metadata": {},
   "outputs": [
    {
     "data": {
      "text/html": [
       "<div>\n",
       "<style scoped>\n",
       "    .dataframe tbody tr th:only-of-type {\n",
       "        vertical-align: middle;\n",
       "    }\n",
       "\n",
       "    .dataframe tbody tr th {\n",
       "        vertical-align: top;\n",
       "    }\n",
       "\n",
       "    .dataframe thead th {\n",
       "        text-align: right;\n",
       "    }\n",
       "</style>\n",
       "<table border=\"1\" class=\"dataframe\">\n",
       "  <thead>\n",
       "    <tr style=\"text-align: right;\">\n",
       "      <th></th>\n",
       "      <th>order_id</th>\n",
       "      <th>shop_id</th>\n",
       "      <th>user_id</th>\n",
       "      <th>order_amount</th>\n",
       "      <th>total_items</th>\n",
       "      <th>payment_method</th>\n",
       "      <th>created_at</th>\n",
       "      <th>order_amount_replaced_outliers</th>\n",
       "    </tr>\n",
       "  </thead>\n",
       "  <tbody>\n",
       "    <tr>\n",
       "      <th>0</th>\n",
       "      <td>1</td>\n",
       "      <td>53</td>\n",
       "      <td>746</td>\n",
       "      <td>224</td>\n",
       "      <td>2</td>\n",
       "      <td>cash</td>\n",
       "      <td>2017-03-13 12:36:56</td>\n",
       "      <td>224.0</td>\n",
       "    </tr>\n",
       "    <tr>\n",
       "      <th>1</th>\n",
       "      <td>2</td>\n",
       "      <td>92</td>\n",
       "      <td>925</td>\n",
       "      <td>90</td>\n",
       "      <td>1</td>\n",
       "      <td>cash</td>\n",
       "      <td>2017-03-03 17:38:52</td>\n",
       "      <td>90.0</td>\n",
       "    </tr>\n",
       "    <tr>\n",
       "      <th>2</th>\n",
       "      <td>3</td>\n",
       "      <td>44</td>\n",
       "      <td>861</td>\n",
       "      <td>144</td>\n",
       "      <td>1</td>\n",
       "      <td>cash</td>\n",
       "      <td>2017-03-14 4:23:56</td>\n",
       "      <td>144.0</td>\n",
       "    </tr>\n",
       "    <tr>\n",
       "      <th>3</th>\n",
       "      <td>4</td>\n",
       "      <td>18</td>\n",
       "      <td>935</td>\n",
       "      <td>156</td>\n",
       "      <td>1</td>\n",
       "      <td>credit_card</td>\n",
       "      <td>2017-03-26 12:43:37</td>\n",
       "      <td>156.0</td>\n",
       "    </tr>\n",
       "    <tr>\n",
       "      <th>4</th>\n",
       "      <td>5</td>\n",
       "      <td>18</td>\n",
       "      <td>883</td>\n",
       "      <td>156</td>\n",
       "      <td>1</td>\n",
       "      <td>credit_card</td>\n",
       "      <td>2017-03-01 4:35:11</td>\n",
       "      <td>156.0</td>\n",
       "    </tr>\n",
       "  </tbody>\n",
       "</table>\n",
       "</div>"
      ],
      "text/plain": [
       "   order_id  shop_id  user_id  order_amount  total_items payment_method  \\\n",
       "0         1       53      746           224            2           cash   \n",
       "1         2       92      925            90            1           cash   \n",
       "2         3       44      861           144            1           cash   \n",
       "3         4       18      935           156            1    credit_card   \n",
       "4         5       18      883           156            1    credit_card   \n",
       "\n",
       "            created_at  order_amount_replaced_outliers  \n",
       "0  2017-03-13 12:36:56                           224.0  \n",
       "1  2017-03-03 17:38:52                            90.0  \n",
       "2   2017-03-14 4:23:56                           144.0  \n",
       "3  2017-03-26 12:43:37                           156.0  \n",
       "4   2017-03-01 4:35:11                           156.0  "
      ]
     },
     "execution_count": 7,
     "metadata": {},
     "output_type": "execute_result"
    }
   ],
   "source": [
    "# Add a new column where the value of the order_amount can be replaced (avoid overwriting the original column to avoid data loss) \n",
    "sneakers_df.insert(len(sneakers_df.columns), 'order_amount_replaced_outliers', sneakers_df['order_amount'])\n",
    "sneakers_df = pd.concat([sneakers_df[sneakers_df['order_amount'] <= outlier_upper],\n",
    "                        sneakers_df[sneakers_df['order_amount'] > outlier_upper].assign(order_amount_replaced_outliers=outlier_upper)])\n",
    "sneakers_df.head()\n",
    "# Calculate how much of the data are outliers\n",
    "print(\"Percentage of Outliers:\", len(sneakers_df[sneakers_df['order_amount'] > outlier_upper].index)/len(sneakers_df.index))"
   ]
  },
  {
   "cell_type": "code",
   "execution_count": 13,
   "metadata": {},
   "outputs": [
    {
     "name": "stdout",
     "output_type": "stream",
     "text": [
      "Percentage of Outliers: 0.0036\n"
     ]
    },
    {
     "data": {
      "text/plain": [
       "{'whiskers': [<matplotlib.lines.Line2D at 0x2a677de9a90>,\n",
       "  <matplotlib.lines.Line2D at 0x2a677de9e20>],\n",
       " 'caps': [<matplotlib.lines.Line2D at 0x2a6775ac070>,\n",
       "  <matplotlib.lines.Line2D at 0x2a6775ef790>],\n",
       " 'boxes': [<matplotlib.lines.Line2D at 0x2a6775da910>],\n",
       " 'medians': [<matplotlib.lines.Line2D at 0x2a6775ef8b0>],\n",
       " 'fliers': [<matplotlib.lines.Line2D at 0x2a6775b8dc0>],\n",
       " 'means': []}"
      ]
     },
     "execution_count": 13,
     "metadata": {},
     "output_type": "execute_result"
    },
    {
     "data": {
      "image/png": "[encoded data removed]",
      "text/plain": [
       "<Figure size 432x288 with 1 Axes>"
      ]
     },
     "metadata": {
      "needs_background": "light"
     },
     "output_type": "display_data"
    }
   ],
   "source": [
    "# Updated boxplot\n",
    "plt.boxplot(sneakers_df['order_amount_replaced_outliers'])"
   ]
  },
  {
   "cell_type": "markdown",
   "metadata": {},
   "source": [
    "The boxplot now has notably less extreme outliers than it previously held. However, there are still many notably high values. We could consider breaking down the 2000 items to the average amount of items per order:"
   ]
  },
  {
   "cell_type": "code",
   "execution_count": 14,
   "metadata": {},
   "outputs": [
    {
     "data": {
      "text/plain": [
       "8.7872"
      ]
     },
     "execution_count": 14,
     "metadata": {},
     "output_type": "execute_result"
    }
   ],
   "source": [
    "# Average items per order\n",
    "st.mean(sneakers_df['total_items'])"
   ]
  },
  {
   "cell_type": "markdown",
   "metadata": {},
   "source": [
    "Then, we could divide the cost to find the average cost for about 9 items. However, I feel that doing so should require the advice of someone with more expertise for these shoe orders - while 2000 shoes is an extreme amount, perhaps it's being bought by individuals with specific purposes such as reselling, donating to a community, or if they are getting some form of discount for their large purchases. Though there are few of these individuals in the data, I don't know if there could be more individuals who choose to do this in the future, and if it would then no longer be an outlier. I feel that breaking down the orders of 2000 could destroy some of the integrity of the mean order value, so the advice of an expert in the reasoning for these orders would be helpful to decide how this data should be approached.\n",
    "\n",
    "As for now, I am not an expert so I will the alterations I make to the original dataset and leave the orders of 2000 shoes as they are. So, my new AOV calculation is:"
   ]
  },
  {
   "cell_type": "code",
   "execution_count": 9,
   "metadata": {},
   "outputs": [
    {
     "name": "stdout",
     "output_type": "stream",
     "text": [
      "1177.8318857669142\n"
     ]
    }
   ],
   "source": [
    "# Use the AOV formula on the updated dataset\n",
    "print(sum(sneakers_df['order_amount_replaced_outliers']/len(sneakers_df.index)))"
   ]
  },
  {
   "cell_type": "markdown",
   "metadata": {},
   "source": [
    "This value is still quite high; evidently the outliers are still exerting some influence over the mean. From here, it could be helpful to consult an expert as mentioned earlier to either break down the orders of 2000 shoes or to lower the upper outlier bound."
   ]
  },
  {
   "cell_type": "markdown",
   "metadata": {},
   "source": [
    "**b) What metric would you report for this dataset?**"
   ]
  },
  {
   "cell_type": "markdown",
   "metadata": {},
   "source": [
    "We can see from the boxplots in part a) that this data is susceptible to outliers and that they can be quite extreme, relative to where most of the data lies. Below, observe a histogram of the original data:"
   ]
  },
  {
   "cell_type": "code",
   "execution_count": 23,
   "metadata": {},
   "outputs": [
    {
     "data": {
      "text/plain": [
       "<matplotlib.axes._subplots.AxesSubplot at 0x2a67bdf4c70>"
      ]
     },
     "execution_count": 23,
     "metadata": {},
     "output_type": "execute_result"
    },
    {
     "data": {
      "image/png": "[encoded data removed]",
      "text/plain": [
       "<Figure size 432x288 with 1 Axes>"
      ]
     },
     "metadata": {
      "needs_background": "light"
     },
     "output_type": "display_data"
    }
   ],
   "source": [
    "sneakers_df['order_amount'].plot.hist(bins=100)"
   ]
  },
  {
   "cell_type": "markdown",
   "metadata": {},
   "source": [
    "So, we can see that there exist few but significant outliers of large values. This, I suggest that it would be a better idea to report a more robust measure; a very simple robust measure of average is the median.\n",
    "\n",
    "For this data, simply taking the median order value can give a better sense of where most of the data is centered. This way, even if more outliers are introduced, the median is not sensitive to these extreme values."
   ]
  },
  {
   "cell_type": "markdown",
   "metadata": {},
   "source": [
    "**c) What is its value?**"
   ]
  },
  {
   "cell_type": "code",
   "execution_count": 15,
   "metadata": {},
   "outputs": [
    {
     "data": {
      "text/plain": [
       "284.0"
      ]
     },
     "execution_count": 15,
     "metadata": {},
     "output_type": "execute_result"
    }
   ],
   "source": [
    "# Find the median order value\n",
    "st.median(sneakers_df['order_amount'])"
   ]
  },
  {
   "cell_type": "markdown",
   "metadata": {},
   "source": [
    "The median order value is $284."
   ]
  },
  {
   "cell_type": "markdown",
   "metadata": {},
   "source": [
    "## Question 2 {-}"
   ]
  },
  {
   "cell_type": "markdown",
   "metadata": {},
   "source": [
    "**Please use queries to answer the following questions. Paste your queries along with your final numerical answers below.**"
   ]
  },
  {
   "cell_type": "markdown",
   "metadata": {},
   "source": [
    "**a) How many orders were shipped by Speedy Express in total?**"
   ]
  },
  {
   "cell_type": "markdown",
   "metadata": {},
   "source": [
    "    Query: SELECT COUNT(*) FROM Orders \n",
    "           WHERE ShipperID=\n",
    "                (SELECT ShipperID FROM Shippers \n",
    "                WHERE ShipperName=\"Speedy Express\");\n",
    "    Result: 54"
   ]
  },
  {
   "cell_type": "markdown",
   "metadata": {},
   "source": [
    "**b) What is the last name of the employee with the most orders? **"
   ]
  },
  {
   "cell_type": "markdown",
   "metadata": {},
   "source": [
    "    Query: SELECT LastName FROM Employees \n",
    "           WHERE EmployeeID=\n",
    "                (SELECT EmployeeID FROM\n",
    "                    (SELECT EmployeeID, MAX(empCount) FROM \n",
    "                        (SELECT EmployeeID, COUNT(*) AS empCount \n",
    "                        FROM Orders GROUP BY EmployeeID)));\n",
    "    Result: Peacock"
   ]
  },
  {
   "cell_type": "markdown",
   "metadata": {},
   "source": [
    "**c) What product was ordered the most by customers in Germany?**"
   ]
  },
  {
   "cell_type": "markdown",
   "metadata": {},
   "source": [
    "    Query: SELECT ProductName FROM Products WHERE ProductID=\n",
    "                (SELECT ProductID FROM \n",
    "                    (SELECT ProductID, MAX(orderCount) FROM \n",
    "                        (SELECT ProductID, SUM(Quantity) AS orderCount \n",
    "                        FROM OrderDetails WHERE OrderID IN \n",
    "                            (SELECT OrderID FROM Orders Where CustomerID IN \n",
    "                                (SELECT CustomerID FROM Customers WHERE Country=\"Germany\"))\n",
    "                         GROUP BY ProductID)))\n",
    "        \n",
    "    Result: Boston Crab Meat"
   ]
  }
 ],
 "metadata": {
  "kernelspec": {
   "display_name": "Python 3",
   "language": "python",
   "name": "python3"
  },
  "language_info": {
   "codemirror_mode": {
    "name": "ipython",
    "version": 3
   },
   "file_extension": ".py",
   "mimetype": "text/x-python",
   "name": "python",
   "nbconvert_exporter": "python",
   "pygments_lexer": "ipython3",
   "version": "3.8.3"
  }
 },
 "nbformat": 4,
 "nbformat_minor": 4
}
